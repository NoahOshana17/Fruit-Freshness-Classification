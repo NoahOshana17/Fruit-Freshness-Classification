{
  "nbformat": 4,
  "nbformat_minor": 0,
  "metadata": {
    "colab": {
      "provenance": [],
      "collapsed_sections": [],
      "mount_file_id": "1ZyqBqU8P1cfPvI813liJUVo2TMnlRkhU",
      "authorship_tag": "ABX9TyNjXCKAIVaWIPo40m0VqJ8W",
      "include_colab_link": true
    },
    "kernelspec": {
      "name": "python3",
      "display_name": "Python 3"
    },
    "language_info": {
      "name": "python"
    },
    "accelerator": "GPU"
  },
  "cells": [
    {
      "cell_type": "markdown",
      "metadata": {
        "id": "view-in-github",
        "colab_type": "text"
      },
      "source": [
        "<a href=\"https://colab.research.google.com/github/NoahOshana17/Fruit-Freshness-Classification/blob/main/fruit_classification.ipynb\" target=\"_parent\"><img src=\"https://colab.research.google.com/assets/colab-badge.svg\" alt=\"Open In Colab\"/></a>"
      ]
    },
    {
      "cell_type": "markdown",
      "metadata": {
        "id": "YTHskuiifetC"
      },
      "source": [
        "###**Dependencies**\n"
      ]
    },
    {
      "cell_type": "code",
      "metadata": {
        "id": "ft0CZaRDfxYo"
      },
      "source": [
        "import tensorflow as tf\n",
        "from matplotlib import pyplot as plt \n",
        "from PIL import Image\n",
        "from pathlib import Path\n",
        "from tensorflow.keras.preprocessing.image import ImageDataGenerator\n",
        "from tensorflow.keras.applications.mobilenet_v2 import MobileNetV2\n",
        "from tensorflow.keras.layers import Dense\n",
        "from tensorflow.keras.models import Model\n",
        "from tensorflow.keras.optimizers import Adam\n",
        "from tensorflow.keras.utils import plot_model\n",
        "import numpy as np\n",
        "import os"
      ],
      "execution_count": null,
      "outputs": []
    },
    {
      "cell_type": "markdown",
      "metadata": {
        "id": "cC3tpwmx9gkZ"
      },
      "source": [
        "###**Checking Information**"
      ]
    },
    {
      "cell_type": "code",
      "metadata": {
        "id": "HlF8uugW9olr"
      },
      "source": [
        "tf.test.gpu_device_name()"
      ],
      "execution_count": null,
      "outputs": []
    },
    {
      "cell_type": "markdown",
      "metadata": {
        "id": "jjRub4peYrJj"
      },
      "source": [
        "###**Setting Up Paths**"
      ]
    },
    {
      "cell_type": "code",
      "metadata": {
        "id": "mw0Q-Kwwv1Mq"
      },
      "source": [
        "data_dir_path = Path('/content/drive/MyDrive/Fruits2/test/freshapples')\n",
        "train_path = Path('/content/drive/MyDrive/Fruits2/train/')\n",
        "test_path = Path('/content/drive/MyDrive/Fruits2/test/')"
      ],
      "execution_count": null,
      "outputs": []
    },
    {
      "cell_type": "markdown",
      "metadata": {
        "id": "7idUwPIwpOuS"
      },
      "source": [
        "###**Rename Images**"
      ]
    },
    {
      "cell_type": "code",
      "metadata": {
        "id": "6R-gnVDzpV6i"
      },
      "source": [
        "for count, filename in enumerate(os.listdir(data_dir_path)):\n",
        "  src = os.path.join(data_dir_path, filename)\n",
        "  dst = os.path.join(data_dir_path, f'{str(count)}.png')\n",
        "  os.rename(src, dst)\n"
      ],
      "execution_count": null,
      "outputs": []
    },
    {
      "cell_type": "markdown",
      "metadata": {
        "id": "R_KcqAYcYzL1"
      },
      "source": [
        "###**Display an Image for Testing Purposes**"
      ]
    },
    {
      "cell_type": "code",
      "metadata": {
        "id": "yZtONzbJgO4R"
      },
      "source": [
        "test_image = Path(\"/content/drive/MyDrive/Fruits2/train/freshoranges/692.png\")\n",
        "\n",
        "Image.open(test_image)"
      ],
      "execution_count": null,
      "outputs": []
    },
    {
      "cell_type": "markdown",
      "metadata": {
        "id": "xqS-VJb2Y7rv"
      },
      "source": [
        "###**Basic Training Settings**"
      ]
    },
    {
      "cell_type": "code",
      "metadata": {
        "id": "WpssIvUawW2s"
      },
      "source": [
        "im_height = 224\n",
        "im_width = 224\n",
        "batch_size = 32"
      ],
      "execution_count": null,
      "outputs": []
    },
    {
      "cell_type": "markdown",
      "metadata": {
        "id": "S4TA2uYjZB-K"
      },
      "source": [
        "###**Data Preprocessing**"
      ]
    },
    {
      "cell_type": "code",
      "metadata": {
        "id": "OeqTzlWuwlfn"
      },
      "source": [
        "generator = ImageDataGenerator(\n",
        "    # rotation_range=45,\n",
        "    rescale=1./255,\n",
        "    # horizontal_flip=True,\n",
        "    # vertical_flip=True,\n",
        "    validation_split=.2\n",
        ")\n",
        "\n",
        "train_generator = generator.flow_from_directory(\n",
        "    train_path,\n",
        "    target_size=(im_height, im_width),\n",
        "    batch_size = batch_size,\n",
        "    subset='training'\n",
        ")\n",
        "\n",
        "validation_generator = generator.flow_from_directory(\n",
        "    train_path,\n",
        "    target_size=(im_height, im_width),\n",
        "    batch_size=batch_size,\n",
        "    subset='validation'\n",
        ")\n",
        "\n",
        "test_generator = generator.flow_from_directory(\n",
        "    test_path,\n",
        "    target_size= (im_height, im_width),\n",
        "    batch_size= batch_size,\n",
        "    shuffle=False\n",
        ")"
      ],
      "execution_count": null,
      "outputs": []
    },
    {
      "cell_type": "markdown",
      "metadata": {
        "id": "rWc83GXbZGuJ"
      },
      "source": [
        "###**Original MobileNetV2**"
      ]
    },
    {
      "cell_type": "code",
      "metadata": {
        "id": "3LG1ceyVWfFP"
      },
      "source": [
        "model = MobileNetV2()\n",
        "model.summary()\n",
        "print(len(model.layers))\n"
      ],
      "execution_count": null,
      "outputs": []
    },
    {
      "cell_type": "markdown",
      "metadata": {
        "id": "Wf4vvMF2uZ_A"
      },
      "source": [
        "###**Fine-Tune MobileNetV2**"
      ]
    },
    {
      "cell_type": "code",
      "metadata": {
        "id": "Il8raeqfufsa"
      },
      "source": [
        "x = model.layers[-2].output\n",
        "output = Dense(units=6, activation='softmax')(x)\n",
        "\n",
        "tuned_model = Model(inputs=model.input, outputs=output)\n",
        "tuned_model.summary()\n",
        "print(len(tuned_model.layers))"
      ],
      "execution_count": null,
      "outputs": []
    },
    {
      "cell_type": "markdown",
      "metadata": {
        "id": "BVhugmvBhI4_"
      },
      "source": [
        "###**Visualize Model Architecture**"
      ]
    },
    {
      "cell_type": "code",
      "metadata": {
        "id": "RMF7Rcr1hNRe"
      },
      "source": [
        "plot_model(tuned_model, to_file='/content/drive/MyDrive/Model Architectures/tuned_model.png')"
      ],
      "execution_count": null,
      "outputs": []
    },
    {
      "cell_type": "markdown",
      "metadata": {
        "id": "gppCfy142v5U"
      },
      "source": [
        "###**Train Model**"
      ]
    },
    {
      "cell_type": "code",
      "metadata": {
        "id": "r4dAAutq20IC"
      },
      "source": [
        "tuned_model.compile(optimizer=Adam(learning_rate=0.0001), loss='categorical_crossentropy',\n",
        "                    metrics=['accuracy'])\n",
        "\n",
        "history = tuned_model.fit(train_generator, validation_data=validation_generator,\n",
        "                epochs=10, verbose=2)"
      ],
      "execution_count": null,
      "outputs": []
    },
    {
      "cell_type": "markdown",
      "metadata": {
        "id": "pGRd9hfXWJ3-"
      },
      "source": [
        "### **Visualize Training History**"
      ]
    },
    {
      "cell_type": "code",
      "metadata": {
        "id": "ONp9W29RWOIC"
      },
      "source": [
        "acc = history.history['accuracy']\n",
        "val_acc = history.history['val_accuracy']\n",
        "\n",
        "loss = history.history['loss']\n",
        "val_loss = history.history['val_loss']\n",
        "\n",
        "epochs_range = 10\n",
        "\n",
        "plt.plot(history.history['accuracy'])\n",
        "plt.plot(history.history['val_accuracy'])\n",
        "plt.title('model accuracy')\n",
        "plt.ylabel('accuracy')\n",
        "plt.xlabel('epoch')\n",
        "plt.legend(['train', 'validation'], loc='upper left')\n",
        "plt.show()\n",
        "\n",
        "plt.plot(history.history['loss'])\n",
        "plt.plot(history.history['val_loss'])\n",
        "plt.title('model loss')\n",
        "plt.ylabel('loss')\n",
        "plt.xlabel('epoch')\n",
        "plt.legend(['train', 'validation'], loc='upper left')\n",
        "plt.show()\n"
      ],
      "execution_count": null,
      "outputs": []
    },
    {
      "cell_type": "markdown",
      "metadata": {
        "id": "EOQXLUH1siaR"
      },
      "source": [
        "###**Save Model**"
      ]
    },
    {
      "cell_type": "code",
      "metadata": {
        "id": "YFm8ZeqsszfL"
      },
      "source": [
        "tuned_model.save('/content/drive/MyDrive/SavedModel/tuned_mobilenetv2_tf', save_format='tf')"
      ],
      "execution_count": null,
      "outputs": []
    },
    {
      "cell_type": "markdown",
      "metadata": {
        "id": "n_Zw_9eHv1h1"
      },
      "source": [
        "###**Load Model**"
      ]
    },
    {
      "cell_type": "code",
      "metadata": {
        "id": "DhWHDJ7VUKtn"
      },
      "source": [
        "tuned_model = tf.keras.models.load_model('/content/drive/MyDrive/SavedModel/tuned_mobilenetv2_tf')"
      ],
      "execution_count": null,
      "outputs": []
    },
    {
      "cell_type": "markdown",
      "metadata": {
        "id": "b7LRt0Oy1SWH"
      },
      "source": [
        "###**Continue Training**"
      ]
    },
    {
      "cell_type": "code",
      "metadata": {
        "id": "tAsChPWuVMGi"
      },
      "source": [
        "tuned_model.fit(train_generator, validation_data=validation_generator, epochs=2, verbose=2)"
      ],
      "execution_count": null,
      "outputs": []
    },
    {
      "cell_type": "markdown",
      "metadata": {
        "id": "_XTOebMV_nQc"
      },
      "source": [
        "###**Test Model**"
      ]
    },
    {
      "cell_type": "code",
      "metadata": {
        "id": "q8_Q0FHr_khL"
      },
      "source": [
        "class_names = ['freshapples', 'freshbananas', 'freshoranges', 'rottenapples', 'rottenbananas', 'rottenoranges']"
      ],
      "execution_count": null,
      "outputs": []
    },
    {
      "cell_type": "code",
      "metadata": {
        "id": "q5_pCmYCkSmv"
      },
      "source": [
        "predictions = tuned_model.predict(test_generator)\n",
        "score = tf.nn.softmax(predictions[0])\n",
        "\n",
        "print(\n",
        "    'This image most likely belongs to {} with a {:.2f} percent confidence.'.format(\n",
        "        class_names[np.argmax(score)], 100 * np.max(score)\n",
        "    )\n",
        ")"
      ],
      "execution_count": null,
      "outputs": []
    },
    {
      "cell_type": "markdown",
      "metadata": {
        "id": "Wat6m1QVtBdm"
      },
      "source": [
        "### **Test Model: Method 2**"
      ]
    },
    {
      "cell_type": "markdown",
      "metadata": {
        "id": "ku7AvLefyDSz"
      },
      "source": [
        ">This needs the test generator to specify shuffle=False\n",
        "\n",
        "---\n",
        "\n"
      ]
    },
    {
      "cell_type": "code",
      "metadata": {
        "id": "s9_Q0HDeo3t4"
      },
      "source": [
        "files=test_generator.filenames\n",
        "class_dict=test_generator.class_indices # a dictionary of the form class name: class index\n",
        "rev_dict={}\n",
        "for key, value in class_dict.items():\n",
        "    rev_dict[value]=key   # dictionary of the form class index: class name"
      ],
      "execution_count": null,
      "outputs": []
    },
    {
      "cell_type": "code",
      "metadata": {
        "id": "cYDobT2irOXD"
      },
      "source": [
        "predictions = tuned_model.predict(test_generator)"
      ],
      "execution_count": null,
      "outputs": []
    },
    {
      "cell_type": "code",
      "metadata": {
        "id": "a0R_74vyrSRv"
      },
      "source": [
        "for i, p in enumerate(predictions):\n",
        "    index=np.argmax(p)\n",
        "    klass=rev_dict[index]    \n",
        "    prob=p[index]\n",
        "    print('for file ', files[i], ' predicted class is ', klass,' with probability ',prob)"
      ],
      "execution_count": null,
      "outputs": []
    }
  ]
}